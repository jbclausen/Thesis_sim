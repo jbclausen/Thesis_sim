{
 "cells": [
  {
   "cell_type": "markdown",
   "metadata": {},
   "source": [
    "# Jens Clausen - Disc Flow Simulation \n",
    "### This simulation will show the penetrative flow through a porous disc. \n",
    "\n",
    "#### Useful Tools: \n",
    "- https://fenicsproject.org/\n",
    "- https://hplgit.github.io/fenics-tutorial/pub/sphinx1/._ftut1003.html\n",
    "- https://fenics.readthedocs.io/en/latest/installation.html"
   ]
  },
  {
   "cell_type": "code",
   "execution_count": 2,
   "metadata": {},
   "outputs": [
    {
     "ename": "ModuleNotFoundError",
     "evalue": "No module named 'fenics'",
     "output_type": "error",
     "traceback": [
      "\u001b[0;31m---------------------------------------------------------------------------\u001b[0m",
      "\u001b[0;31mModuleNotFoundError\u001b[0m                       Traceback (most recent call last)",
      "\u001b[0;32m<ipython-input-2-1cb9d0d17b11>\u001b[0m in \u001b[0;36m<module>\u001b[0;34m\u001b[0m\n\u001b[1;32m     10\u001b[0m \u001b[0;34m\u001b[0m\u001b[0m\n\u001b[1;32m     11\u001b[0m \u001b[0;32mfrom\u001b[0m \u001b[0m__future__\u001b[0m \u001b[0;32mimport\u001b[0m \u001b[0mprint_function\u001b[0m\u001b[0;34m\u001b[0m\u001b[0;34m\u001b[0m\u001b[0m\n\u001b[0;32m---> 12\u001b[0;31m \u001b[0;32mfrom\u001b[0m \u001b[0mfenics\u001b[0m \u001b[0;32mimport\u001b[0m \u001b[0;34m*\u001b[0m\u001b[0;34m\u001b[0m\u001b[0;34m\u001b[0m\u001b[0m\n\u001b[0m\u001b[1;32m     13\u001b[0m \u001b[0;32mimport\u001b[0m \u001b[0mmatplotlib\u001b[0m\u001b[0;34m.\u001b[0m\u001b[0mpyplot\u001b[0m \u001b[0;32mas\u001b[0m \u001b[0mplt\u001b[0m\u001b[0;34m\u001b[0m\u001b[0;34m\u001b[0m\u001b[0m\n\u001b[1;32m     14\u001b[0m \u001b[0;34m\u001b[0m\u001b[0m\n",
      "\u001b[0;31mModuleNotFoundError\u001b[0m: No module named 'fenics'"
     ]
    }
   ],
   "source": [
    "# %load ft01_poisson.py\n",
    "\"\"\"\n",
    "FEniCS tutorial demo program: Poisson equation with Dirichlet conditions.\n",
    "Test problem is chosen to give an exact solution at all nodes of the mesh.\n",
    "  -Laplace(u) = f    in the unit square\n",
    "            u = u_D  on the boundary\n",
    "  u_D = 1 + x^2 + 2y^2\n",
    "    f = -6\n",
    "\"\"\"\n",
    "\n",
    "from __future__ import print_function\n",
    "from fenics import *\n",
    "import matplotlib.pyplot as plt\n",
    "\n",
    "# Create mesh and define function space\n",
    "mesh = UnitSquareMesh(8, 8)\n",
    "V = FunctionSpace(mesh, 'P', 1)\n",
    "\n",
    "# Define boundary condition\n",
    "u_D = Expression('1 + x[0]*x[0] + 2*x[1]*x[1]', degree=2)\n",
    "\n",
    "def boundary(x, on_boundary):\n",
    "    return on_boundary\n",
    "\n",
    "bc = DirichletBC(V, u_D, boundary)\n",
    "\n",
    "# Define variational problem\n",
    "u = TrialFunction(V)\n",
    "v = TestFunction(V)\n",
    "f = Constant(-6.0)\n",
    "a = dot(grad(u), grad(v))*dx\n",
    "L = f*v*dx\n",
    "\n",
    "# Compute solution\n",
    "u = Function(V)\n",
    "solve(a == L, u, bc)\n",
    "\n",
    "# Plot solution and mesh\n",
    "plot(u)\n",
    "plot(mesh)\n",
    "\n",
    "# Save solution to file in VTK format\n",
    "vtkfile = File('poisson/solution.pvd')\n",
    "vtkfile << u\n",
    "\n",
    "# Compute error in L2 norm\n",
    "error_L2 = errornorm(u_D, u, 'L2')\n",
    "\n",
    "# Compute maximum error at vertices\n",
    "vertex_values_u_D = u_D.compute_vertex_values(mesh)\n",
    "vertex_values_u = u.compute_vertex_values(mesh)\n",
    "import numpy as np\n",
    "error_max = np.max(np.abs(vertex_values_u_D - vertex_values_u))\n",
    "\n",
    "# Print errors\n",
    "print('error_L2  =', error_L2)\n",
    "print('error_max =', error_max)\n",
    "\n",
    "# Hold plot\n",
    "plt.show()"
   ]
  },
  {
   "cell_type": "code",
   "execution_count": 4,
   "metadata": {},
   "outputs": [
    {
     "ename": "ModuleNotFoundError",
     "evalue": "No module named 'fenics'",
     "output_type": "error",
     "traceback": [
      "\u001b[0;31m---------------------------------------------------------------------------\u001b[0m",
      "\u001b[0;31mModuleNotFoundError\u001b[0m                       Traceback (most recent call last)",
      "\u001b[0;32m<ipython-input-4-2c9995a4a68b>\u001b[0m in \u001b[0;36m<module>\u001b[0;34m\u001b[0m\n\u001b[1;32m      1\u001b[0m \u001b[0;31m# Imports\u001b[0m\u001b[0;34m\u001b[0m\u001b[0;34m\u001b[0m\u001b[0;34m\u001b[0m\u001b[0m\n\u001b[1;32m      2\u001b[0m \u001b[0;32mimport\u001b[0m \u001b[0mdolfin\u001b[0m\u001b[0;34m\u001b[0m\u001b[0;34m\u001b[0m\u001b[0m\n\u001b[0;32m----> 3\u001b[0;31m \u001b[0;32mimport\u001b[0m \u001b[0mfenics\u001b[0m\u001b[0;34m\u001b[0m\u001b[0;34m\u001b[0m\u001b[0m\n\u001b[0m\u001b[1;32m      4\u001b[0m \u001b[0;32mimport\u001b[0m \u001b[0mnumpy\u001b[0m \u001b[0;32mas\u001b[0m \u001b[0mnp\u001b[0m\u001b[0;34m\u001b[0m\u001b[0;34m\u001b[0m\u001b[0m\n\u001b[1;32m      5\u001b[0m \u001b[0;32mimport\u001b[0m \u001b[0mmatplotlib\u001b[0m\u001b[0;34m.\u001b[0m\u001b[0mpyplot\u001b[0m \u001b[0;32mas\u001b[0m \u001b[0mplt\u001b[0m\u001b[0;34m\u001b[0m\u001b[0;34m\u001b[0m\u001b[0m\n",
      "\u001b[0;31mModuleNotFoundError\u001b[0m: No module named 'fenics'"
     ]
    }
   ],
   "source": [
    "# Imports \n",
    "import dolfin\n",
    "import fenics\n",
    "import numpy as np\n",
    "import matplotlib.pyplot as plt"
   ]
  },
  {
   "cell_type": "code",
   "execution_count": null,
   "metadata": {},
   "outputs": [],
   "source": [
    "# Create Mesh \n",
    "mesh = UnitSquareMesh(8, 8)\n",
    "V = FunctionSpace(mesh, 'P', 1)"
   ]
  },
  {
   "cell_type": "code",
   "execution_count": null,
   "metadata": {},
   "outputs": [],
   "source": [
    "# Define BC \n"
   ]
  }
 ],
 "metadata": {
  "kernelspec": {
   "display_name": "Python 3",
   "language": "python",
   "name": "python3"
  },
  "language_info": {
   "codemirror_mode": {
    "name": "ipython",
    "version": 3
   },
   "file_extension": ".py",
   "mimetype": "text/x-python",
   "name": "python",
   "nbconvert_exporter": "python",
   "pygments_lexer": "ipython3",
   "version": "3.8.3"
  }
 },
 "nbformat": 4,
 "nbformat_minor": 4
}
